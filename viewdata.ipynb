{
 "cells": [
  {
   "cell_type": "code",
   "execution_count": 1,
   "metadata": {},
   "outputs": [],
   "source": [
    "from matplotlib import pyplot as plt\n",
    "import pandas as pd\n",
    "import numpy as np\n",
    "import cv2 as cv"
   ]
  },
  {
   "cell_type": "code",
   "execution_count": 2,
   "metadata": {},
   "outputs": [
    {
     "data": {
      "text/plain": [
       "((33432, 11),\n",
       "   author  class_gram class_type  class code  pos_x  pos_y  size  confidence  \\\n",
       " 0     yi           0        num      1    0    148   1886    15       77.12   \n",
       " 1     yi           0        num      1    0   1194   1890    15        0.71   \n",
       " 2     yi           0        num      1    0   1176   1889    15        0.83   \n",
       " 3     yi           0        num      1    0   1180   1885    14       78.98   \n",
       " 4     yi           0        num      1    0    104   1882    23        1.00   \n",
       " \n",
       "    difference                                             base64  \n",
       " 0        0.19  Qk02CAAAAAAAADYEAAAoAAAAIAAAACAAAAABAAgAAAAAAA...  \n",
       " 1        0.21  Qk02CAAAAAAAADYEAAAoAAAAIAAAACAAAAABAAgAAAAAAA...  \n",
       " 2        0.22  Qk02CAAAAAAAADYEAAAoAAAAIAAAACAAAAABAAgAAAAAAA...  \n",
       " 3        0.23  Qk02CAAAAAAAADYEAAAoAAAAIAAAACAAAAABAAgAAAAAAA...  \n",
       " 4        0.24  Qk02CAAAAAAAADYEAAAoAAAAIAAAACAAAAABAAgAAAAAAA...  )"
      ]
     },
     "execution_count": 2,
     "metadata": {},
     "output_type": "execute_result"
    }
   ],
   "source": [
    "filename = 'Yi_No_Data_April4_UnicodeProblem.csv'\n",
    "df = pd.read_csv (filename)\n",
    "df.shape, df.head()"
   ]
  },
  {
   "cell_type": "code",
   "execution_count": 3,
   "metadata": {},
   "outputs": [
    {
     "name": "stdout",
     "output_type": "stream",
     "text": [
      "b64string =  Qk02CAAAAAAAADYEAAAo\n",
      "decoded =  b'BM6\\x08\\x00\\x00\\x00\\x00\\x00\\x006\\x04\\x00\\x00(\\x00\\x00\\x00 \\x00'\n",
      "nparr =  (2102,) [66 77 54  8  0  0  0  0  0  0 54  4  0  0 40  0  0  0 32  0  0  0 32  0  0\n",
      "  0  1  0  8  0  0  0  0  0  0  0  0  0  0  0  0  0  0  0  0  0  0  0  0  0]\n"
     ]
    }
   ],
   "source": [
    "import base64\n",
    "def cv_from_b64 (s):\n",
    "    str = base64.b64decode (s)\n",
    "    nparr = np.frombuffer (str, np.uint8)\n",
    "    img = cv.imdecode (nparr, cv.IMREAD_ANYCOLOR)\n",
    "    return img\n",
    "#\n",
    "\n",
    "def imdsp (cvimg):\n",
    "    img2 = cvimg[:,:,::-1]\n",
    "    plt.imshow(img2)\n",
    "    plt.show()\n",
    "#\n",
    "\n",
    "s = df['base64'][0]\n",
    "print ('b64string = ', s[:20])\n",
    "str = base64.b64decode(s)\n",
    "print ('decoded = ', str[:20])\n",
    "nparr = np.frombuffer (str, np.uint8)\n",
    "print ('nparr = ', nparr.shape, nparr[:50])\n",
    "img = cv.imdecode(nparr, cv.IMREAD_ANYCOLOR)\n"
   ]
  },
  {
   "cell_type": "code",
   "execution_count": 4,
   "metadata": {},
   "outputs": [
    {
     "name": "stdout",
     "output_type": "stream",
     "text": [
      "author                                                       yi\n",
      "class_gram                                                    0\n",
      "class_type                                                  kor\n",
      "class                                                       205\n",
      "code                                                          게\n",
      "pos_x                                                       356\n",
      "pos_y                                                       825\n",
      "size                                                         28\n",
      "confidence                                                  0.9\n",
      "difference                                                  0.2\n",
      "base64        Qk02CAAAAAAAADYEAAAoAAAAIAAAACAAAAABAAgAAAAAAA...\n",
      "Name: 3000, dtype: object\n"
     ]
    },
    {
     "data": {
      "text/plain": [
       "((32, 32), array([[255, 255, 255, ...,  78, 252, 255],\n",
       "        [255, 255, 255, ...,   0,  48, 255],\n",
       "        [255, 255, 255, ...,   0,  44, 235],\n",
       "        ..., \n",
       "        [255, 255, 255, ...,   0,  48, 255],\n",
       "        [255, 255, 255, ...,   0,  48, 255],\n",
       "        [255, 255, 255, ..., 251, 252, 255]], dtype=uint8), 255)"
      ]
     },
     "execution_count": 4,
     "metadata": {},
     "output_type": "execute_result"
    }
   ],
   "source": [
    "print (df.iloc[3000])\n",
    "img = cv_from_b64 (df['base64'][3000])\n",
    "img.shape, img, img[0,0]"
   ]
  },
  {
   "cell_type": "code",
   "execution_count": 5,
   "metadata": {},
   "outputs": [
    {
     "data": {
      "image/png": "[encoded data removed]",
      "text/plain": [
       "<Figure size 432x288 with 1 Axes>"
      ]
     },
     "metadata": {},
     "output_type": "display_data"
    }
   ],
   "source": [
    "plt.imshow (img, cmap='gray')\n",
    "plt.show ()"
   ]
  },
  {
   "cell_type": "code",
   "execution_count": 6,
   "metadata": {},
   "outputs": [
    {
     "name": "stdout",
     "output_type": "stream",
     "text": [
      "author                                                       no\n",
      "class_gram                                                    0\n",
      "class_type                                                  chi\n",
      "class                                                      1848\n",
      "code                                                          說\n",
      "pos_x                                                       698\n",
      "pos_y                                                       933\n",
      "size                                                         47\n",
      "confidence                                                 81.9\n",
      "difference                                                 0.27\n",
      "base64        Qk02CAAAAAAAADYEAAAoAAAAIAAAACAAAAABAAgAAAAAAA...\n",
      "Name: 33000, dtype: object\n",
      "(32, 32)\n"
     ]
    },
    {
     "data": {
      "image/png": "[encoded data removed]",
      "text/plain": [
       "<Figure size 432x288 with 1 Axes>"
      ]
     },
     "metadata": {},
     "output_type": "display_data"
    }
   ],
   "source": [
    "indx = 33000\n",
    "print (df.iloc[indx])\n",
    "img = cv_from_b64 (df['base64'][indx])\n",
    "print (img.shape)\n",
    "plt.imshow (img, cmap='gray')\n",
    "plt.show()"
   ]
  },
  {
   "cell_type": "code",
   "execution_count": 7,
   "metadata": {},
   "outputs": [
    {
     "data": {
      "text/plain": [
       "((32, 32), True)"
      ]
     },
     "execution_count": 7,
     "metadata": {},
     "output_type": "execute_result"
    }
   ],
   "source": [
    "img.shape, len(img.shape) == 2"
   ]
  },
  {
   "cell_type": "code",
   "execution_count": 8,
   "metadata": {},
   "outputs": [
    {
     "data": {
      "image/png": "[encoded data removed]",
      "text/plain": [
       "<Figure size 216x216 with 1 Axes>"
      ]
     },
     "metadata": {},
     "output_type": "display_data"
    }
   ],
   "source": [
    "plt.figure(figsize=(3,3))\n",
    "plt.imshow (img, cmap='gray', resample=False, interpolation=None)\n",
    "plt.show()"
   ]
  },
  {
   "cell_type": "code",
   "execution_count": 9,
   "metadata": {},
   "outputs": [],
   "source": [
    "from IPython.display import display, HTML\n",
    "\n",
    "def imshow(name, imageArray):\n",
    "     _, png = cv.imencode('.png', imageArray)\n",
    "     encoded = base64.b64encode(png)\n",
    "     return HTML(data='''<img alt=\"{0}\" src=\"data:image/png;base64, {1}\"/>'''.format(name, encoded.decode('ascii')))\n",
    "#"
   ]
  },
  {
   "cell_type": "code",
   "execution_count": 10,
   "metadata": {},
   "outputs": [
    {
     "data": {
      "text/html": [
       "<img alt=\"image display\" src=\"data:image/png;base64, iVBORw0KGgoAAAANSUhEUgAAACAAAAAgCAAAAABWESUoAAACd0lEQVQ4EXXBT0jTYRzA4c8XGxQWESodmoeQkAJJq99BamxCQhYjD0mXPIRC5cEOM09GC7JD2yGEUMjlwTpkRUrDSwtdqyT8xdTojxiE7BCxooVBQZNv77vN/hx6HlH+8WUe42sr7SNlWKIUxG4yvhmon6eofaQMS3JpjO+HAQUkGgqHI73I9Q4KpCFNyfhRQDg1BBOt036KZKEbY8MkBS/2semBn09V635SJMqa1nFwXNy98LN9zD+5AUu43EjB2CBLm32Lu+cwBruYbMES/rI017b34RasRwe5ehZDAmy/wZqL4VCUokvn4fU3B1H+OHELxWoCX/Q7W785A6IU9PWHoux4xx8re5aABglQ8H65uobnk6cXmcIYus3K14YspKQhHaDoaeXsNsdFsYSVjex6UzEluXSAoqontTguijHYxcpGPr6pqBPFWj05enzUA46LYgkolix0Y6ymIFsJjotiCSiWLDT9cDCSmq0Ex0VfZWHoNiiW6MsfDkZS93vAcQm8ylKgWJJLlzvA++XqGsBxIRwG/EnfYyxJ+codug/tXK6umYIX0z1YZ64lfWVYkvKxRjGaExiRHkok1zJD1YH7GFfOAfP1GDXvKBENxlHAk0cxmhNoZwzFml1fJxqM0zYGyQCK0ZwIX+iMoVh1H6ZEg3G8GfDkeVsLiWbuHIv0ohh9/aREg3G8GfDk6RiG+vnaVFWkF8Xo6yclGoxT0jGc9S1yaojOGNN+QGBANBinpGP4bhvREHTGED8wDYgG43gz4MlzpKeJUBSI9PKbLDR9xpsBTx7whwNYE62UDEjKB94MHFyFm9soGbyXoEhyLTM8a+S/fgHG6+sgYibH+gAAAABJRU5ErkJggg==\"/>"
      ],
      "text/plain": [
       "<IPython.core.display.HTML object>"
      ]
     },
     "execution_count": 10,
     "metadata": {},
     "output_type": "execute_result"
    }
   ],
   "source": [
    "imshow('image display', img)"
   ]
  },
  {
   "cell_type": "code",
   "execution_count": 11,
   "metadata": {},
   "outputs": [
    {
     "name": "stdout",
     "output_type": "stream",
     "text": [
      "고 True\n"
     ]
    }
   ],
   "source": [
    "a = df.iloc[3300]\n",
    "print (a.code, a.code == '고')"
   ]
  },
  {
   "cell_type": "code",
   "execution_count": 12,
   "metadata": {},
   "outputs": [
    {
     "data": {
      "text/html": [
       "<div>\n",
       "<style scoped>\n",
       "    .dataframe tbody tr th:only-of-type {\n",
       "        vertical-align: middle;\n",
       "    }\n",
       "\n",
       "    .dataframe tbody tr th {\n",
       "        vertical-align: top;\n",
       "    }\n",
       "\n",
       "    .dataframe thead th {\n",
       "        text-align: right;\n",
       "    }\n",
       "</style>\n",
       "<table border=\"1\" class=\"dataframe\">\n",
       "  <thead>\n",
       "    <tr style=\"text-align: right;\">\n",
       "      <th></th>\n",
       "      <th>author</th>\n",
       "      <th>class_gram</th>\n",
       "      <th>class_type</th>\n",
       "      <th>class</th>\n",
       "      <th>code</th>\n",
       "      <th>pos_x</th>\n",
       "      <th>pos_y</th>\n",
       "      <th>size</th>\n",
       "      <th>confidence</th>\n",
       "      <th>difference</th>\n",
       "      <th>base64</th>\n",
       "    </tr>\n",
       "  </thead>\n",
       "  <tbody>\n",
       "    <tr>\n",
       "      <th>0</th>\n",
       "      <td>yi</td>\n",
       "      <td>0</td>\n",
       "      <td>num</td>\n",
       "      <td>1</td>\n",
       "      <td>0</td>\n",
       "      <td>148</td>\n",
       "      <td>1886</td>\n",
       "      <td>15</td>\n",
       "      <td>77.12</td>\n",
       "      <td>0.19</td>\n",
       "      <td>Qk02CAAAAAAAADYEAAAoAAAAIAAAACAAAAABAAgAAAAAAA...</td>\n",
       "    </tr>\n",
       "    <tr>\n",
       "      <th>1</th>\n",
       "      <td>yi</td>\n",
       "      <td>0</td>\n",
       "      <td>num</td>\n",
       "      <td>1</td>\n",
       "      <td>0</td>\n",
       "      <td>1194</td>\n",
       "      <td>1890</td>\n",
       "      <td>15</td>\n",
       "      <td>0.71</td>\n",
       "      <td>0.21</td>\n",
       "      <td>Qk02CAAAAAAAADYEAAAoAAAAIAAAACAAAAABAAgAAAAAAA...</td>\n",
       "    </tr>\n",
       "    <tr>\n",
       "      <th>2</th>\n",
       "      <td>yi</td>\n",
       "      <td>0</td>\n",
       "      <td>num</td>\n",
       "      <td>1</td>\n",
       "      <td>0</td>\n",
       "      <td>1176</td>\n",
       "      <td>1889</td>\n",
       "      <td>15</td>\n",
       "      <td>0.83</td>\n",
       "      <td>0.22</td>\n",
       "      <td>Qk02CAAAAAAAADYEAAAoAAAAIAAAACAAAAABAAgAAAAAAA...</td>\n",
       "    </tr>\n",
       "    <tr>\n",
       "      <th>3</th>\n",
       "      <td>yi</td>\n",
       "      <td>0</td>\n",
       "      <td>num</td>\n",
       "      <td>1</td>\n",
       "      <td>0</td>\n",
       "      <td>1180</td>\n",
       "      <td>1885</td>\n",
       "      <td>14</td>\n",
       "      <td>78.98</td>\n",
       "      <td>0.23</td>\n",
       "      <td>Qk02CAAAAAAAADYEAAAoAAAAIAAAACAAAAABAAgAAAAAAA...</td>\n",
       "    </tr>\n",
       "    <tr>\n",
       "      <th>4</th>\n",
       "      <td>yi</td>\n",
       "      <td>0</td>\n",
       "      <td>num</td>\n",
       "      <td>1</td>\n",
       "      <td>0</td>\n",
       "      <td>104</td>\n",
       "      <td>1882</td>\n",
       "      <td>23</td>\n",
       "      <td>1.00</td>\n",
       "      <td>0.24</td>\n",
       "      <td>Qk02CAAAAAAAADYEAAAoAAAAIAAAACAAAAABAAgAAAAAAA...</td>\n",
       "    </tr>\n",
       "  </tbody>\n",
       "</table>\n",
       "</div>"
      ],
      "text/plain": [
       "  author  class_gram class_type  class code  pos_x  pos_y  size  confidence  \\\n",
       "0     yi           0        num      1    0    148   1886    15       77.12   \n",
       "1     yi           0        num      1    0   1194   1890    15        0.71   \n",
       "2     yi           0        num      1    0   1176   1889    15        0.83   \n",
       "3     yi           0        num      1    0   1180   1885    14       78.98   \n",
       "4     yi           0        num      1    0    104   1882    23        1.00   \n",
       "\n",
       "   difference                                             base64  \n",
       "0        0.19  Qk02CAAAAAAAADYEAAAoAAAAIAAAACAAAAABAAgAAAAAAA...  \n",
       "1        0.21  Qk02CAAAAAAAADYEAAAoAAAAIAAAACAAAAABAAgAAAAAAA...  \n",
       "2        0.22  Qk02CAAAAAAAADYEAAAoAAAAIAAAACAAAAABAAgAAAAAAA...  \n",
       "3        0.23  Qk02CAAAAAAAADYEAAAoAAAAIAAAACAAAAABAAgAAAAAAA...  \n",
       "4        0.24  Qk02CAAAAAAAADYEAAAoAAAAIAAAACAAAAABAAgAAAAAAA...  "
      ]
     },
     "execution_count": 12,
     "metadata": {},
     "output_type": "execute_result"
    }
   ],
   "source": [
    "df.head()"
   ]
  },
  {
   "cell_type": "code",
   "execution_count": 13,
   "metadata": {},
   "outputs": [],
   "source": [
    "rkdf = df.loc[df['code'] == '가']"
   ]
  },
  {
   "cell_type": "code",
   "execution_count": 14,
   "metadata": {},
   "outputs": [
    {
     "name": "stdout",
     "output_type": "stream",
     "text": [
      "(617, 11)\n"
     ]
    },
    {
     "data": {
      "text/html": [
       "<div>\n",
       "<style scoped>\n",
       "    .dataframe tbody tr th:only-of-type {\n",
       "        vertical-align: middle;\n",
       "    }\n",
       "\n",
       "    .dataframe tbody tr th {\n",
       "        vertical-align: top;\n",
       "    }\n",
       "\n",
       "    .dataframe thead th {\n",
       "        text-align: right;\n",
       "    }\n",
       "</style>\n",
       "<table border=\"1\" class=\"dataframe\">\n",
       "  <thead>\n",
       "    <tr style=\"text-align: right;\">\n",
       "      <th></th>\n",
       "      <th>author</th>\n",
       "      <th>class_gram</th>\n",
       "      <th>class_type</th>\n",
       "      <th>class</th>\n",
       "      <th>code</th>\n",
       "      <th>pos_x</th>\n",
       "      <th>pos_y</th>\n",
       "      <th>size</th>\n",
       "      <th>confidence</th>\n",
       "      <th>difference</th>\n",
       "      <th>base64</th>\n",
       "    </tr>\n",
       "  </thead>\n",
       "  <tbody>\n",
       "    <tr>\n",
       "      <th>1704</th>\n",
       "      <td>yi</td>\n",
       "      <td>1</td>\n",
       "      <td>kor</td>\n",
       "      <td>182</td>\n",
       "      <td>가</td>\n",
       "      <td>1049</td>\n",
       "      <td>593</td>\n",
       "      <td>31</td>\n",
       "      <td>86.48</td>\n",
       "      <td>0.12</td>\n",
       "      <td>Qk02CAAAAAAAADYEAAAoAAAAIAAAACAAAAABAAgAAAAAAA...</td>\n",
       "    </tr>\n",
       "    <tr>\n",
       "      <th>1705</th>\n",
       "      <td>yi</td>\n",
       "      <td>1</td>\n",
       "      <td>kor</td>\n",
       "      <td>182</td>\n",
       "      <td>가</td>\n",
       "      <td>615</td>\n",
       "      <td>616</td>\n",
       "      <td>30</td>\n",
       "      <td>0.87</td>\n",
       "      <td>0.12</td>\n",
       "      <td>Qk02CAAAAAAAADYEAAAoAAAAIAAAACAAAAABAAgAAAAAAA...</td>\n",
       "    </tr>\n",
       "    <tr>\n",
       "      <th>1706</th>\n",
       "      <td>yi</td>\n",
       "      <td>1</td>\n",
       "      <td>kor</td>\n",
       "      <td>182</td>\n",
       "      <td>가</td>\n",
       "      <td>313</td>\n",
       "      <td>721</td>\n",
       "      <td>34</td>\n",
       "      <td>78.80</td>\n",
       "      <td>0.12</td>\n",
       "      <td>Qk02CAAAAAAAADYEAAAoAAAAIAAAACAAAAABAAgAAAAAAA...</td>\n",
       "    </tr>\n",
       "    <tr>\n",
       "      <th>1707</th>\n",
       "      <td>yi</td>\n",
       "      <td>1</td>\n",
       "      <td>kor</td>\n",
       "      <td>182</td>\n",
       "      <td>가</td>\n",
       "      <td>823</td>\n",
       "      <td>591</td>\n",
       "      <td>35</td>\n",
       "      <td>75.60</td>\n",
       "      <td>0.12</td>\n",
       "      <td>Qk02CAAAAAAAADYEAAAoAAAAIAAAACAAAAABAAgAAAAAAA...</td>\n",
       "    </tr>\n",
       "    <tr>\n",
       "      <th>1708</th>\n",
       "      <td>yi</td>\n",
       "      <td>1</td>\n",
       "      <td>kor</td>\n",
       "      <td>182</td>\n",
       "      <td>가</td>\n",
       "      <td>731</td>\n",
       "      <td>492</td>\n",
       "      <td>34</td>\n",
       "      <td>74.90</td>\n",
       "      <td>0.12</td>\n",
       "      <td>Qk02CAAAAAAAADYEAAAoAAAAIAAAACAAAAABAAgAAAAAAA...</td>\n",
       "    </tr>\n",
       "  </tbody>\n",
       "</table>\n",
       "</div>"
      ],
      "text/plain": [
       "     author  class_gram class_type  class code  pos_x  pos_y  size  \\\n",
       "1704     yi           1        kor    182    가   1049    593    31   \n",
       "1705     yi           1        kor    182    가    615    616    30   \n",
       "1706     yi           1        kor    182    가    313    721    34   \n",
       "1707     yi           1        kor    182    가    823    591    35   \n",
       "1708     yi           1        kor    182    가    731    492    34   \n",
       "\n",
       "      confidence  difference  \\\n",
       "1704       86.48        0.12   \n",
       "1705        0.87        0.12   \n",
       "1706       78.80        0.12   \n",
       "1707       75.60        0.12   \n",
       "1708       74.90        0.12   \n",
       "\n",
       "                                                 base64  \n",
       "1704  Qk02CAAAAAAAADYEAAAoAAAAIAAAACAAAAABAAgAAAAAAA...  \n",
       "1705  Qk02CAAAAAAAADYEAAAoAAAAIAAAACAAAAABAAgAAAAAAA...  \n",
       "1706  Qk02CAAAAAAAADYEAAAoAAAAIAAAACAAAAABAAgAAAAAAA...  \n",
       "1707  Qk02CAAAAAAAADYEAAAoAAAAIAAAACAAAAABAAgAAAAAAA...  \n",
       "1708  Qk02CAAAAAAAADYEAAAoAAAAIAAAACAAAAABAAgAAAAAAA...  "
      ]
     },
     "execution_count": 14,
     "metadata": {},
     "output_type": "execute_result"
    }
   ],
   "source": [
    "print (rkdf.shape)\n",
    "rkdf.head()"
   ]
  },
  {
   "cell_type": "code",
   "execution_count": 15,
   "metadata": {},
   "outputs": [],
   "source": [
    "#[x for x in rkdf['base64']]\n",
    "cv_from_b64 (rkdf['base64'].iloc[0])\n",
    "imgs = []\n",
    "for x in rkdf['base64']:\n",
    "#    print (x)\n",
    "    imgs.append (cv_from_b64(x))\n",
    "#"
   ]
  },
  {
   "cell_type": "code",
   "execution_count": 16,
   "metadata": {},
   "outputs": [
    {
     "data": {
      "text/plain": [
       "<matplotlib.image.AxesImage at 0x1a3d77e5080>"
      ]
     },
     "execution_count": 16,
     "metadata": {},
     "output_type": "execute_result"
    },
    {
     "data": {
      "image/png": "[encoded data removed]",
      "text/plain": [
       "<Figure size 432x288 with 1 Axes>"
      ]
     },
     "metadata": {},
     "output_type": "display_data"
    }
   ],
   "source": [
    "#rkdf['base64'].iloc[0]\n",
    "plt.imshow (imgs[20], cmap='gray')"
   ]
  },
  {
   "cell_type": "code",
   "execution_count": 17,
   "metadata": {},
   "outputs": [
    {
     "data": {
      "image/png": "[encoded data removed]",
      "text/plain": [
       "<Figure size 576x576 with 20 Axes>"
      ]
     },
     "metadata": {},
     "output_type": "display_data"
    }
   ],
   "source": [
    "w=10\n",
    "h=10\n",
    "fig=plt.figure(figsize=(8, 8))\n",
    "columns = 4\n",
    "rows = 5\n",
    "for i in range(1, columns*rows +1):\n",
    "    img = imgs[i]\n",
    "    fig.add_subplot(rows, columns, i)\n",
    "    plt.imshow(img, cmap='gray')\n",
    "plt.show()"
   ]
  },
  {
   "cell_type": "markdown",
   "metadata": {},
   "source": []
  },
  {
   "cell_type": "code",
   "execution_count": 18,
   "metadata": {},
   "outputs": [],
   "source": [
    "# create a new column named 'images'\n",
    "rkdf = rkdf.assign (images = imgs) "
   ]
  },
  {
   "cell_type": "code",
   "execution_count": 19,
   "metadata": {},
   "outputs": [
    {
     "data": {
      "text/plain": [
       "Index(['author', 'class_gram', 'class_type', 'class', 'code', 'pos_x', 'pos_y',\n",
       "       'size', 'confidence', 'difference', 'base64', 'images'],\n",
       "      dtype='object')"
      ]
     },
     "execution_count": 19,
     "metadata": {},
     "output_type": "execute_result"
    }
   ],
   "source": [
    "rkdf.columns"
   ]
  },
  {
   "cell_type": "code",
   "execution_count": 20,
   "metadata": {},
   "outputs": [
    {
     "data": {
      "text/plain": [
       "<matplotlib.image.AxesImage at 0x1a3d7d592e8>"
      ]
     },
     "execution_count": 20,
     "metadata": {},
     "output_type": "execute_result"
    },
    {
     "data": {
      "image/png": "[encoded data removed]",
      "text/plain": [
       "<Figure size 432x288 with 1 Axes>"
      ]
     },
     "metadata": {},
     "output_type": "display_data"
    }
   ],
   "source": [
    "plt.imshow (rkdf['images'].iloc[110], cmap='gray')"
   ]
  },
  {
   "cell_type": "code",
   "execution_count": 21,
   "metadata": {},
   "outputs": [
    {
     "data": {
      "text/plain": [
       "(617, 12)"
      ]
     },
     "execution_count": 21,
     "metadata": {},
     "output_type": "execute_result"
    }
   ],
   "source": [
    "rkdf.shape"
   ]
  },
  {
   "cell_type": "code",
   "execution_count": 22,
   "metadata": {},
   "outputs": [
    {
     "data": {
      "text/plain": [
       "(617, 1024)"
      ]
     },
     "execution_count": 22,
     "metadata": {},
     "output_type": "execute_result"
    }
   ],
   "source": [
    "dstack = []\n",
    "for i in range (rkdf['images'].shape[0]):\n",
    "    dstack.append (rkdf['images'].iloc[i].reshape(-1))\n",
    "rkdata = np.vstack (dstack)\n",
    "rkdata.shape"
   ]
  },
  {
   "cell_type": "code",
   "execution_count": 23,
   "metadata": {},
   "outputs": [
    {
     "name": "stdout",
     "output_type": "stream",
     "text": [
      "[[255 255 255 ..., 255 255 255]\n",
      " [255 255 255 ..., 255 255 255]] (2, 1024)\n"
     ]
    }
   ],
   "source": [
    "a = rkdf['images'].iloc[0].reshape(-1)\n",
    "a.shape\n",
    "s = np.vstack ((a,a))\n",
    "print (s, s.shape)"
   ]
  },
  {
   "cell_type": "code",
   "execution_count": 26,
   "metadata": {},
   "outputs": [
    {
     "name": "stdout",
     "output_type": "stream",
     "text": [
      "iteration: 1, error: 945719.9190519253\n",
      "iteration: 100, error: 265.5579626127955\n",
      "iteration: 200, error: 21.502068280520163\n",
      "iteration: 300, error: 3.722682451522931\n",
      "iteration: 395, error: 1.0641938363729537\n"
     ]
    }
   ],
   "source": [
    "import r_pca\n",
    "# use R_pca to estimate the degraded data as L + S, where L is low rank, and S is sparse\n",
    "rpca = r_pca.R_pca(rkdata)\n",
    "L, S = rpca.fit(max_iter=10000, iter_print=100)"
   ]
  },
  {
   "cell_type": "code",
   "execution_count": null,
   "metadata": {},
   "outputs": [],
   "source": [
    "uL,dL,vL = np.linalg.svd (L)\n",
    "print (dL.shape, dL[:100])\n",
    "plt.plot (range(dL.shape[0]), dL)"
   ]
  },
  {
   "cell_type": "code",
   "execution_count": null,
   "metadata": {},
   "outputs": [],
   "source": [
    "np.max ( np.abs(S) )"
   ]
  },
  {
   "cell_type": "code",
   "execution_count": null,
   "metadata": {},
   "outputs": [],
   "source": [
    "u,d,v = np.linalg.svd (rkdata)\n",
    "print (d.shape, d[:10])\n",
    "plt.plot (range(d.shape[0]), d), plt.plot (dL, d)"
   ]
  },
  {
   "cell_type": "markdown",
   "metadata": {},
   "source": []
  },
  {
   "cell_type": "code",
   "execution_count": null,
   "metadata": {},
   "outputs": [],
   "source": [
    "d = np.abs( rkdata[0] - rkdata[1] ).reshape(32,32)\n",
    "plt.imshow (d, cmap='gray')"
   ]
  },
  {
   "cell_type": "code",
   "execution_count": null,
   "metadata": {},
   "outputs": [],
   "source": [
    "m = cv.merge ((255-rkdf['images'].iloc[0], 255-rkdf['images'].iloc[1], 255-rkdf['images'].iloc[2]))"
   ]
  },
  {
   "cell_type": "code",
   "execution_count": null,
   "metadata": {},
   "outputs": [],
   "source": [
    "plt.imshow (m)"
   ]
  },
  {
   "cell_type": "code",
   "execution_count": null,
   "metadata": {},
   "outputs": [],
   "source": [
    "mean_img = np.median (rkdata, axis=0) # np.mean (rkdata, axis=0)\n",
    "plt.imshow (mean_img.reshape(32,32), cmap='gray')\n",
    "\n",
    "std_img =  np.sqrt (  np.sum ((rkdata - mean_img) * (rkdata - mean_img), axis=0) / rkdata.shape[0] ) # to be fixed.\n",
    "print (std_img.shape, std_img)\n",
    "#std_img =  np.std (rkdata, axis=0)"
   ]
  },
  {
   "cell_type": "code",
   "execution_count": null,
   "metadata": {},
   "outputs": [],
   "source": [
    "def dist (x, m, s):\n",
    "    d = 0\n",
    "    for i in range(s.shape[0]):\n",
    "        if s[i] != 0.0:\n",
    "            d += np.abs(x[i] - m[i])/s[i]\n",
    "    return d\n",
    "\n",
    "dists = [dist(x, mean_img, std_img) for x in rkdata]\n",
    "\n",
    "#plt.plot (dists)\n",
    "h=plt.hist (dists, bins=100)"
   ]
  },
  {
   "cell_type": "code",
   "execution_count": null,
   "metadata": {},
   "outputs": [],
   "source": [
    "imax = np.argmax (dists)\n",
    "print ('@ argmax(dists) = ', imax)\n",
    "print ('@ stats(dists) = ', np.mean(dists), np.std(dists), dists[imax], (dists[imax]-np.mean(dists))/np.std(dists))\n",
    "\n",
    "plt.subplot (131)\n",
    "plt.imshow (rkdata[imax].reshape(32,32), cmap='gray')\n",
    "plt.subplot (132)\n",
    "plt.imshow (rkdata[imax-1].reshape(32,32), cmap='gray')\n",
    "plt.subplot (133)\n",
    "plt.imshow (rkdata[imax+1].reshape(32,32), cmap='gray')"
   ]
  },
  {
   "cell_type": "code",
   "execution_count": null,
   "metadata": {},
   "outputs": [],
   "source": [
    "asort = np.argsort (dists)[::-1]\n",
    "print (asort[:10])\n",
    "for i in asort[:10]:\n",
    "    print ('index = %3d  m_dist = %.1f   dist normalized = %5.1f' %\n",
    "           (i, dist(rkdata[i], mean_img, std_img), (dists[i]-np.mean(dists))/np.std(dists)))\n",
    "\n",
    "plt.subplot (141)\n",
    "plt.imshow (rkdata[asort[0]].reshape(32,32), cmap='gray')\n",
    "plt.subplot (142)\n",
    "plt.imshow (rkdata[asort[1]].reshape(32,32), cmap='gray')\n",
    "plt.subplot (143)\n",
    "plt.imshow (rkdata[asort[2]].reshape(32,32), cmap='gray')\n",
    "plt.subplot (144)\n",
    "plt.imshow (rkdata[asort[3]].reshape(32,32), cmap='gray')"
   ]
  },
  {
   "cell_type": "code",
   "execution_count": null,
   "metadata": {},
   "outputs": [],
   "source": [
    "w=10\n",
    "h=10\n",
    "fig=plt.figure(figsize=(8, 8))\n",
    "columns = 4\n",
    "rows = 5\n",
    "fig.add_subplot(rows,columns,1)\n",
    "plt.imshow (mean_img.reshape(32,32), cmap='gray')\n",
    "for i in range(columns*rows-1):\n",
    "    img = rkdata[asort[i]].reshape(32,32)\n",
    "    fig.add_subplot(rows, columns, i+2)\n",
    "    plt.imshow(img, cmap='gray')\n",
    "plt.show()"
   ]
  },
  {
   "cell_type": "code",
   "execution_count": null,
   "metadata": {},
   "outputs": [],
   "source": [
    "var_img = np.var (rkdata, axis=0)\n",
    "print ('var=', var_img)\n",
    "std_img = np.std (rkdata, axis=0)\n",
    "print (np.max(std_img), std_img)\n",
    "plt.imshow (std_img.reshape(32,32).astype(np.uint8), cmap='gray')"
   ]
  },
  {
   "cell_type": "code",
   "execution_count": null,
   "metadata": {},
   "outputs": [],
   "source": [
    "def cov (data): # sample covariance\n",
    "    m = np.mean (data).astype(np.float64)\n",
    "    c = np.zeros ( (data.shape[1], data.shape[1]), dtype=np.float64)\n",
    "    for i in range (data.shape[0]):\n",
    "        d = data[i] - m\n",
    "        c += np.outer (d, d)\n",
    "    #\n",
    "    c /= data.shape[0]\n",
    "    return c\n",
    "#\n",
    "cov = cov (rkdata)\n",
    "cov.shape"
   ]
  },
  {
   "cell_type": "code",
   "execution_count": null,
   "metadata": {},
   "outputs": [],
   "source": [
    "#np.linalg.eig (cov)\n",
    "#print (covInv - covInv.transpose())\n",
    "cov_rank = np.linalg.matrix_rank (cov)\n",
    "print ('@ cov rank = ', cov_rank)\n",
    "u,d,v = np.linalg.svd (cov)\n",
    "print ('d = ', d)\n",
    "d2 = d.copy()\n",
    "for i in range(d2.shape[0]):\n",
    "    if i < cov_rank:\n",
    "        d2[i] = 1/d2[i]\n",
    "    else:\n",
    "        d2[i] = 0.\n",
    "#d2[cov_rank:] = 0\n",
    "print ('d2 = ', d2)\n",
    "icov = np.matmul( np.matmul(v, np.diag(d2)), u.transpose() )\n",
    "np.matmul(cov, icov)"
   ]
  },
  {
   "cell_type": "code",
   "execution_count": null,
   "metadata": {},
   "outputs": [],
   "source": [
    "print ('cov rank =  %d out of %d' % (np.linalg.matrix_rank (cov), cov.shape[0]))\n",
    "d = rkdata[100] - mean_img\n",
    "print ('max abs d = ', np.max(np.abs(d)))\n",
    "# plt.imshow (np.abs(d.reshape(32,32)), cmap='gray')\n",
    "\n",
    "a = icov.dot (d)\n",
    "print ('mdist = ', np.sqrt(a.dot(d)))\n",
    "\n",
    "def mah_dist (x, use_var=False):\n",
    "    d = x - mean_img\n",
    "    if use_var:\n",
    "        ad = d\n",
    "        for i in range (var_img.shape[0]):\n",
    "            if np.abs(var_img[i]) > 1e-7:\n",
    "                ad[i] /= var_img[i]\n",
    "    else:\n",
    "        ad = icov.dot (d)\n",
    "    val = ad.dot(d)\n",
    "    if val < 0:\n",
    "        print ('!! negative val: ', val)\n",
    "    return np.sqrt (ad.dot(d) / d.shape[0]) \n",
    "\n",
    "mdist = [ mah_dist(rkdata[i], use_var=False) for i in range(rkdata.shape[0])]\n",
    "\n",
    "print (max(mdist), min(mdist), ' ', np.mean(mdist), np.std(mdist))\n",
    "plt.plot (mdist)"
   ]
  },
  {
   "cell_type": "code",
   "execution_count": null,
   "metadata": {},
   "outputs": [],
   "source": [
    "indx = 3000\n",
    "print (df.iloc[indx,:])\n",
    "img0 = cv_from_b64 (df['base64'].iloc[indx])\n",
    "\n",
    "print ('covInv max = ', np.max (cov - cov.transpose()))\n",
    "\n",
    "dif = img0.reshape(-1) - mean_img\n",
    "d = dif.dot(covInv.dot(dif))\n",
    "print (d, dif)\n",
    "#print ('@ dist = ', mah_dist (img0.reshape(-1), use_var=False))\n",
    "plt.imshow (img0)"
   ]
  },
  {
   "cell_type": "code",
   "execution_count": null,
   "metadata": {},
   "outputs": [],
   "source": [
    "from sklearn import decomposition\n",
    "\n",
    "pca = decomposition.PCA(n_components=3)\n",
    "pca.fit(rkdata)\n",
    "X = pca.transform(rkdata)"
   ]
  },
  {
   "cell_type": "code",
   "execution_count": null,
   "metadata": {},
   "outputs": [],
   "source": []
  },
  {
   "cell_type": "code",
   "execution_count": null,
   "metadata": {},
   "outputs": [],
   "source": [
    "X"
   ]
  },
  {
   "cell_type": "code",
   "execution_count": null,
   "metadata": {},
   "outputs": [],
   "source": [
    "\n",
    "# Plot images of the digits\n",
    "n_img_per_row = 20\n",
    "img = np.zeros((10 * n_img_per_row, 10 * n_img_per_row))\n",
    "for i in range(n_img_per_row):\n",
    "    ix = 10 * i + 1\n",
    "    for j in range(n_img_per_row):\n",
    "        iy = 10 * j + 1\n",
    "        img[ix:ix + 8, iy:iy + 8] = rkdata[i * n_img_per_row + j].reshape((8, 8))\n",
    "\n",
    "plt.imshow(img, cmap=plt.cm.binary)\n",
    "plt.xticks([])\n",
    "plt.yticks([])\n",
    "plt.title('A selection from the 64-dimensional digits dataset')\n"
   ]
  },
  {
   "cell_type": "code",
   "execution_count": null,
   "metadata": {},
   "outputs": [],
   "source": []
  }
 ],
 "metadata": {
  "kernelspec": {
   "display_name": "Python 3",
   "language": "python",
   "name": "python3"
  },
  "language_info": {
   "codemirror_mode": {
    "name": "ipython",
    "version": 3
   },
   "file_extension": ".py",
   "mimetype": "text/x-python",
   "name": "python",
   "nbconvert_exporter": "python",
   "pygments_lexer": "ipython3",
   "version": "3.6.5"
  }
 },
 "nbformat": 4,
 "nbformat_minor": 2
}
