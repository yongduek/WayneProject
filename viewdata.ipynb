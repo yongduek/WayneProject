{
 "cells": [
  {
   "cell_type": "code",
   "execution_count": 1,
   "metadata": {},
   "outputs": [],
   "source": [
    "from matplotlib import pyplot as plt\n",
    "import pandas as pd\n",
    "import numpy as np\n",
    "import cv2"
   ]
  },
  {
   "cell_type": "code",
   "execution_count": 57,
   "metadata": {},
   "outputs": [
    {
     "data": {
      "text/plain": [
       "((33432, 11),\n",
       "   author  class_gram class_type  class code  pos_x  pos_y  size  confidence  \\\n",
       " 0     yi           0        num      1    0    148   1886    15       77.12   \n",
       " 1     yi           0        num      1    0   1194   1890    15        0.71   \n",
       " 2     yi           0        num      1    0   1176   1889    15        0.83   \n",
       " 3     yi           0        num      1    0   1180   1885    14       78.98   \n",
       " 4     yi           0        num      1    0    104   1882    23        1.00   \n",
       " \n",
       "    difference                                             base64  \n",
       " 0        0.19  Qk02CAAAAAAAADYEAAAoAAAAIAAAACAAAAABAAgAAAAAAA...  \n",
       " 1        0.21  Qk02CAAAAAAAADYEAAAoAAAAIAAAACAAAAABAAgAAAAAAA...  \n",
       " 2        0.22  Qk02CAAAAAAAADYEAAAoAAAAIAAAACAAAAABAAgAAAAAAA...  \n",
       " 3        0.23  Qk02CAAAAAAAADYEAAAoAAAAIAAAACAAAAABAAgAAAAAAA...  \n",
       " 4        0.24  Qk02CAAAAAAAADYEAAAoAAAAIAAAACAAAAABAAgAAAAAAA...  )"
      ]
     },
     "execution_count": 57,
     "metadata": {},
     "output_type": "execute_result"
    }
   ],
   "source": [
    "filename = 'Yi_No_Data_April4_UnicodeProblem.csv'\n",
    "df = pd.read_csv (filename)\n",
    "df.shape, df.head()"
   ]
  },
  {
   "cell_type": "code",
   "execution_count": 28,
   "metadata": {},
   "outputs": [
    {
     "name": "stdout",
     "output_type": "stream",
     "text": [
      "b64string =  Qk02CAAAAAAAADYEAAAo\n",
      "decoded =  b'BM6\\x08\\x00\\x00\\x00\\x00\\x00\\x006\\x04\\x00\\x00(\\x00\\x00\\x00 \\x00'\n",
      "nparr =  (2102,) [66 77 54  8  0  0  0  0  0  0 54  4  0  0 40  0  0  0 32  0  0  0 32  0\n",
      "  0  0  1  0  8  0  0  0  0  0  0  0  0  0  0  0  0  0  0  0  0  0  0  0\n",
      "  0  0]\n"
     ]
    }
   ],
   "source": [
    "import base64\n",
    "def cv_from_b64 (s):\n",
    "    str = base64.b64decode (s)\n",
    "    nparr = np.frombuffer (str, np.uint8)\n",
    "    img = cv2.imdecode (nparr, cv2.IMREAD_ANYCOLOR)\n",
    "    return img\n",
    "#\n",
    "\n",
    "def imdsp (cvimg):\n",
    "    img2 = cvimg[:,:,::-1]\n",
    "    plt.imshow(img2)\n",
    "    plt.show()\n",
    "#\n",
    "\n",
    "s = df['base64'][0]\n",
    "print ('b64string = ', s[:20])\n",
    "str = base64.b64decode(s)\n",
    "print ('decoded = ', str[:20])\n",
    "nparr = np.frombuffer (str, np.uint8)\n",
    "print ('nparr = ', nparr.shape, nparr[:50])\n",
    "img = cv2.imdecode(nparr, cv2.IMREAD_ANYCOLOR)\n"
   ]
  },
  {
   "cell_type": "code",
   "execution_count": 35,
   "metadata": {},
   "outputs": [
    {
     "name": "stdout",
     "output_type": "stream",
     "text": [
      "author                                                       yi\n",
      "class_gram                                                    0\n",
      "class_type                                                  kor\n",
      "class                                                       205\n",
      "code                                                          게\n",
      "pos_x                                                       356\n",
      "pos_y                                                       825\n",
      "size                                                         28\n",
      "confidence                                                  0.9\n",
      "difference                                                  0.2\n",
      "base64        Qk02CAAAAAAAADYEAAAoAAAAIAAAACAAAAABAAgAAAAAAA...\n",
      "Name: 3000, dtype: object\n"
     ]
    },
    {
     "data": {
      "text/plain": [
       "((32, 32), array([[255, 255, 255, ...,  78, 252, 255],\n",
       "        [255, 255, 255, ...,   0,  48, 255],\n",
       "        [255, 255, 255, ...,   0,  44, 235],\n",
       "        ...,\n",
       "        [255, 255, 255, ...,   0,  48, 255],\n",
       "        [255, 255, 255, ...,   0,  48, 255],\n",
       "        [255, 255, 255, ..., 251, 252, 255]], dtype=uint8), 255)"
      ]
     },
     "execution_count": 35,
     "metadata": {},
     "output_type": "execute_result"
    }
   ],
   "source": [
    "print (df.iloc[3000])\n",
    "img = cv_from_b64 (df['base64'][3000])\n",
    "img.shape, img, img[0,0]"
   ]
  },
  {
   "cell_type": "code",
   "execution_count": 34,
   "metadata": {},
   "outputs": [
    {
     "data": {
      "image/png": "[encoded data removed]",
      "text/plain": [
       "<Figure size 432x288 with 1 Axes>"
      ]
     },
     "metadata": {},
     "output_type": "display_data"
    }
   ],
   "source": [
    "plt.imshow (img, cmap='gray')\n",
    "plt.show ()"
   ]
  },
  {
   "cell_type": "code",
   "execution_count": 58,
   "metadata": {},
   "outputs": [
    {
     "name": "stdout",
     "output_type": "stream",
     "text": [
      "author                                                       no\n",
      "class_gram                                                    0\n",
      "class_type                                                  chi\n",
      "class                                                      1848\n",
      "code                                                          說\n",
      "pos_x                                                       698\n",
      "pos_y                                                       933\n",
      "size                                                         47\n",
      "confidence                                                 81.9\n",
      "difference                                                 0.27\n",
      "base64        Qk02CAAAAAAAADYEAAAoAAAAIAAAACAAAAABAAgAAAAAAA...\n",
      "Name: 33000, dtype: object\n",
      "(32, 32)\n"
     ]
    },
    {
     "data": {
      "image/png": "[encoded data removed]",
      "text/plain": [
       "<Figure size 432x288 with 1 Axes>"
      ]
     },
     "metadata": {},
     "output_type": "display_data"
    }
   ],
   "source": [
    "indx = 33000\n",
    "print (df.iloc[indx])\n",
    "img = cv_from_b64 (df['base64'][indx])\n",
    "print (img.shape)\n",
    "plt.imshow (img, cmap='gray')\n",
    "plt.show()"
   ]
  },
  {
   "cell_type": "code",
   "execution_count": 64,
   "metadata": {},
   "outputs": [
    {
     "data": {
      "text/plain": [
       "((32, 32), True)"
      ]
     },
     "execution_count": 64,
     "metadata": {},
     "output_type": "execute_result"
    }
   ],
   "source": [
    "img.shape, len(img.shape) == 2"
   ]
  },
  {
   "cell_type": "code",
   "execution_count": 76,
   "metadata": {},
   "outputs": [
    {
     "data": {
      "image/png": "[encoded data removed]",
      "text/plain": [
       "<Figure size 216x216 with 1 Axes>"
      ]
     },
     "metadata": {},
     "output_type": "display_data"
    }
   ],
   "source": [
    "plt.figure(figsize=(3,3))\n",
    "plt.imshow (img, cmap='gray', resample=False, interpolation=None)\n",
    "plt.show()"
   ]
  },
  {
   "cell_type": "code",
   "execution_count": 78,
   "metadata": {},
   "outputs": [],
   "source": [
    "from IPython.display import display, HTML\n",
    "\n",
    "def imshow(name, imageArray):\n",
    "     _, png = cv2.imencode('.png', imageArray)\n",
    "     encoded = base64.b64encode(png)\n",
    "     return HTML(data='''<img alt=\"{0}\" src=\"data:image/png;base64, {1}\"/>'''.format(name, encoded.decode('ascii')))\n",
    "#"
   ]
  },
  {
   "cell_type": "code",
   "execution_count": 79,
   "metadata": {},
   "outputs": [
    {
     "data": {
      "text/html": [
       "<img alt=\"image display\" src=\"data:image/png;base64, iVBORw0KGgoAAAANSUhEUgAAACAAAAAgCAAAAABWESUoAAACd0lEQVQ4EXXBT0jTYRzA4c8XGxQWESodmoeQkAJJq99BamxCQhYjD0mXPIRC5cEOM09GC7JD2yGEUMjlwTpkRUrDSwtdqyT8xdTojxiE7BCxooVBQZNv77vN/hx6HlH+8WUe42sr7SNlWKIUxG4yvhmon6eofaQMS3JpjO+HAQUkGgqHI73I9Q4KpCFNyfhRQDg1BBOt036KZKEbY8MkBS/2semBn09V635SJMqa1nFwXNy98LN9zD+5AUu43EjB2CBLm32Lu+cwBruYbMES/rI017b34RasRwe5ehZDAmy/wZqL4VCUokvn4fU3B1H+OHELxWoCX/Q7W785A6IU9PWHoux4xx8re5aABglQ8H65uobnk6cXmcIYus3K14YspKQhHaDoaeXsNsdFsYSVjex6UzEluXSAoqontTguijHYxcpGPr6pqBPFWj05enzUA46LYgkolix0Y6ymIFsJjotiCSiWLDT9cDCSmq0Ex0VfZWHoNiiW6MsfDkZS93vAcQm8ylKgWJJLlzvA++XqGsBxIRwG/EnfYyxJ+codug/tXK6umYIX0z1YZ64lfWVYkvKxRjGaExiRHkok1zJD1YH7GFfOAfP1GDXvKBENxlHAk0cxmhNoZwzFml1fJxqM0zYGyQCK0ZwIX+iMoVh1H6ZEg3G8GfDkeVsLiWbuHIv0ohh9/aREg3G8GfDk6RiG+vnaVFWkF8Xo6yclGoxT0jGc9S1yaojOGNN+QGBANBinpGP4bhvREHTGED8wDYgG43gz4MlzpKeJUBSI9PKbLDR9xpsBTx7whwNYE62UDEjKB94MHFyFm9soGbyXoEhyLTM8a+S/fgHG6+sgYibH+gAAAABJRU5ErkJggg==\"/>"
      ],
      "text/plain": [
       "<IPython.core.display.HTML object>"
      ]
     },
     "execution_count": 79,
     "metadata": {},
     "output_type": "execute_result"
    }
   ],
   "source": [
    "imshow('image display', img)"
   ]
  },
  {
   "cell_type": "code",
   "execution_count": null,
   "metadata": {},
   "outputs": [],
   "source": []
  }
 ],
 "metadata": {
  "kernelspec": {
   "display_name": "Python 3",
   "language": "python",
   "name": "python3"
  },
  "language_info": {
   "codemirror_mode": {
    "name": "ipython",
    "version": 3
   },
   "file_extension": ".py",
   "mimetype": "text/x-python",
   "name": "python",
   "nbconvert_exporter": "python",
   "pygments_lexer": "ipython3",
   "version": "3.6.5"
  }
 },
 "nbformat": 4,
 "nbformat_minor": 2
}
